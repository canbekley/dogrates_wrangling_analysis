{
 "cells": [
  {
   "cell_type": "markdown",
   "metadata": {},
   "source": [
    "# Is WeRateDogs™ biased?\n",
    "Created: 10/23/2018<br>\n",
    "Latest Update: 10/23/2018<br>\n",
    "By: Can Bekleyici - bekleydata.com<br>"
   ]
  },
  {
   "cell_type": "markdown",
   "metadata": {},
   "source": [
    "\"Meet Chilly and Griffin. They have perfected the duo snoozle, a maximization of snuggability. Coziness levels approaching epic pupportions. Both 13/10.\""
   ]
  },
  {
   "cell_type": "markdown",
   "metadata": {},
   "source": [
    "For dog or animal lovers, the twitter page of @dog_rates aka WeRateDogs™ is probably the nearest we can get to paradise. It takes us away from all the seriousness of everyday life and lets us focus on the important stuff, the simple stuff, dog stuff. We enter a world of positivity and cuteness overload with pictures and videos of all kinds of dogs, from snoozled puppers to fully certified good boys."
   ]
  },
  {
   "cell_type": "markdown",
   "metadata": {},
   "source": [
    "![Chilly and Griffin](visuals/DotKh9bXgAE1aJZ.jpg)"
   ]
  },
  {
   "cell_type": "markdown",
   "metadata": {},
   "source": [
    "WeRateDogs™ is designated to rating dogs on their appearences and stories, and was formed by the user @dog_rates back in 2015. The page has since grown tremendously in popularity, with many users sharing its content and requesting their dogs being rated aswell. The site is a driving force for the development of the 'dog culture', with it's famous terms like \"pupper\", \"mlem\", \"floof\" etc. They also developed their own unusual rating system over time, in which almost every dog is rated above 10/10, because \"they are good dogs, Brant\"."
   ]
  },
  {
   "cell_type": "markdown",
   "metadata": {},
   "source": [
    "This has not allways been the case though. A chart that I have generated from tweet datasets displays how the rating system on @dog_rates have changed since late 2015 (see the chart below). The chart shows a steady inflation of ratings taking place, up to the point that most recent ratings in 2017 have mainly been 12/10 or above."
   ]
  },
  {
   "cell_type": "markdown",
   "metadata": {},
   "source": [
    "![Rating over Time](visuals/rating_over_time.png)"
   ]
  },
  {
   "cell_type": "markdown",
   "metadata": {},
   "source": [
    "Digging deep into the data of @dog_rates revealed not only differing ratings over time, but different average ratings depending on the kind of dog. The charts below show that Eskimo dogs recieved the highest ratings on WeRateDogs with an average rating of 11.875, followed by Samoyeds with an average rating of 11.725 and Chows with an average rating of 11.641. Looking into the age groups (e.g. \"puppers\", \"puppos\", \"doggos\") show that \"puppos\", which are basically teenage dogs, recieved the highest average rating of 12.107 in comparison."
   ]
  },
  {
   "cell_type": "markdown",
   "metadata": {},
   "source": [
    "![Rating each Breed](visuals/rating_each_breed.png)"
   ]
  },
  {
   "cell_type": "markdown",
   "metadata": {},
   "source": [
    "![Rating each Stage](visuals/rating_each_stage.png)"
   ]
  },
  {
   "cell_type": "markdown",
   "metadata": {},
   "source": [
    "But because these ratings have been collected from tweets dating back to the beginning of @dog_rates, the is a bit of distortion, when applied to the inflating rating system. This means, that most recent dog rating requests will more likely be higher rated, than a dogs that have been rated 3 years ago. Now if we had a large number of recent ratings on Eskimo dogs, this would have favored the average rating of the Eskimo dog group. When assuming a balanced distribution of dog breed entries over time, a distortion would not happen. A simple way to fix this problem, would be to standardize each dog rating according to their respective time inflation."
   ]
  },
  {
   "cell_type": "markdown",
   "metadata": {},
   "source": [
    "With reservations according to the limitations that are mentioned, I still conclude, that different dog breeds and age groups recieve different perceptions among @dog_rates and the community, which can also be displayed through average \"likes\" for each dog breed. Contrary to the rating of @dog_rates, the community chose french bulldogs to be most popular (see visualization below)."
   ]
  },
  {
   "cell_type": "markdown",
   "metadata": {},
   "source": [
    "![Dog Breed with Highest Average Favorite Count](visuals/frenchy_cloud.jpg)"
   ]
  },
  {
   "cell_type": "code",
   "execution_count": null,
   "metadata": {},
   "outputs": [],
   "source": []
  }
 ],
 "metadata": {
  "kernelspec": {
   "display_name": "Python 3",
   "language": "python",
   "name": "python3"
  },
  "language_info": {
   "codemirror_mode": {
    "name": "ipython",
    "version": 3
   },
   "file_extension": ".py",
   "mimetype": "text/x-python",
   "name": "python",
   "nbconvert_exporter": "python",
   "pygments_lexer": "ipython3",
   "version": "3.6.6"
  }
 },
 "nbformat": 4,
 "nbformat_minor": 2
}
