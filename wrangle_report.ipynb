{
 "cells": [
  {
   "cell_type": "markdown",
   "metadata": {},
   "source": [
    "# Wrangle Report\n",
    "> Created: 10/23/2018<br>\n",
    "Latest Update: 10/23/2018<br>\n",
    "By: Can Bekleyici - bekleydata.com<br>"
   ]
  },
  {
   "cell_type": "markdown",
   "metadata": {},
   "source": [
    "For the wrangling process of dog ratings analysis project, I used many different sources and techniques to get the most out of the datasets. I structured the wrangling part strictly into 3 different parts, being data gathering, assessment of the gathered data, and cleaning of the data according to prior assessments.\n"
   ]
  },
  {
   "cell_type": "markdown",
   "metadata": {},
   "source": [
    "I used 3 different sources, which I gathered data from. The first one is a csv file containing tweet data from the @dog_rates twitter channel, which has been provided to me. The second source is a tsv file containing pre-made predictions about the dog’s breeds which could be identified through the given tweet ids. Since these two dataset didn’t contain any information about the favorite counts and retweet counts of each tweet, this information had to be gathered through a twitter api using the tweepy package for python. I stored this information with their respective tweet ids in a json formatted txt-file called `tweet_json.txt`.\n"
   ]
  },
  {
   "cell_type": "markdown",
   "metadata": {},
   "source": [
    "After loading each source to data frames, I started assessing their structures and qualities. I observed in total 2 issues regarding the structure or the tidiness and 10 issues regarding the content or quality of the datasets. These issues have been documented separately at the end of the chapter in the notebook file, which are:\n",
    "- tables are seperated, although they contain the same observations\n",
    "- the variable for the dog's stage (e.g. doggo, floofer, pupper etc.) is spread over different columns\n",
    "\n",
    ".. for tidiness issues, and:\n",
    "- the rating denominators are inconsistent\n",
    "- some rating numerators are relatively high\n",
    "- a high number of entries in df are retweets or replies\n",
    "- a number of entries with 'name' being 'a', 'an', 'the'\n",
    "- missing data in 'expanded_urls' in df\n",
    "- dog's stages should be categorical data\n",
    "- missing dog names in df, recorded as 'None' string instead of NaN\n",
    "- inconsistency in dog breeds in df2\n",
    "- 'tweet_id' columns should be string types\n",
    "- timestamp column should be of datetime type\n",
    "\n",
    ".. for quality issues.\n"
   ]
  },
  {
   "cell_type": "markdown",
   "metadata": {},
   "source": [
    "\n",
    "In the final part of the data wrangling process I cleaned the data on the observed issues. Here I started by merging the three different data sets into one master data frame, while fixing any other tidiness issues by the way. I created the categorical predicted breed column on the basis of the prediction algorithm, with a confidence interval of 20% minimum. Since the minimum confidence for the breed predictions has been set very low, the error appearance is pretty high. This had to be kept in mind for the following analysis process.\n"
   ]
  },
  {
   "cell_type": "markdown",
   "metadata": {},
   "source": [
    "Cleaning the quality issues included changing the types of certain columns, converting the data in columns which contained ‘None’ strings into NaN’s, fixing inconsistencies in the breeds column, filling missing data in the urls column, dropping retweet and reply entries, and standardizing the rating denominators and the rating numerators respectively.\n"
   ]
  },
  {
   "cell_type": "markdown",
   "metadata": {},
   "source": [
    "After saving the cleaned master data frame to the `twitter_archive_master.csv` file, I proceeded with the EDA.\n"
   ]
  },
  {
   "cell_type": "markdown",
   "metadata": {},
   "source": []
  }
 ],
 "metadata": {
  "kernelspec": {
   "display_name": "Python 3",
   "language": "python",
   "name": "python3"
  },
  "language_info": {
   "codemirror_mode": {
    "name": "ipython",
    "version": 3
   },
   "file_extension": ".py",
   "mimetype": "text/x-python",
   "name": "python",
   "nbconvert_exporter": "python",
   "pygments_lexer": "ipython3",
   "version": "3.6.6"
  }
 },
 "nbformat": 4,
 "nbformat_minor": 2
}
